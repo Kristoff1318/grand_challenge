{
 "cells": [
  {
   "cell_type": "code",
   "execution_count": 17,
   "id": "74935835",
   "metadata": {},
   "outputs": [
    {
     "name": "stdout",
     "output_type": "stream",
     "text": [
      "Added edge from START to Patient_1_arrives with time window [0, 12]\n",
      "Added edge from START to Patient_2_arrives with time window [0, 14]\n",
      "Added edge from START to Patient_3_arrives with time window [0, 16]\n",
      "Added edge from START to Patient_4_arrives with time window [0, 18]\n",
      "Added edge from START to Patient_5_arrives with time window [0, 20]\n",
      "Added edge from START to Patient_6_arrives with time window [0, 22]\n",
      "Added edge from START to Patient_7_arrives with time window [0, 24]\n",
      "Added edge from START to Patient_8_arrives with time window [0, 26]\n",
      "Added edge from START to Patient_9_arrives with time window [0, 28]\n",
      "Added edge from START to Patient_10_arrives with time window [0, 30]\n",
      "Added edge from START to Patient_11_arrives with time window [0, 32]\n",
      "Added edge from START to Patient_12_arrives with time window [0, 34]\n",
      "Added edge from START to Patient_13_arrives with time window [0, 36]\n",
      "Added edge from START to Patient_14_arrives with time window [0, 38]\n",
      "Added edge from START to Patient_15_arrives with time window [0, 40]\n",
      "Added edge from START to Patient_16_arrives with time window [0, 42]\n",
      "Added edge from START to Patient_17_arrives with time window [0, 44]\n",
      "Added edge from START to Patient_18_arrives with time window [0, 46]\n",
      "Added edge from START to Patient_19_arrives with time window [0, 48]\n",
      "Added edge from START to Patient_20_arrives with time window [0, 50]\n",
      "Added edge from START to Patient_21_arrives with time window [0, 52]\n",
      "Added edge from START to Patient_22_arrives with time window [0, 54]\n",
      "Added edge from START to Patient_23_arrives with time window [0, 56]\n",
      "Added edge from START to Patient_24_arrives with time window [0, 58]\n",
      "Added edge from START to Patient_25_arrives with time window [0, 60]\n"
     ]
    }
   ],
   "source": [
    "from temporal_constraint import TemporalConstraint  # Ensure this is defined correctly\n",
    "from stn import STN  # Ensure this is defined correctly\n",
    "\n",
    "num_patients = 25\n",
    "\n",
    "def setup_patient_arrivals():\n",
    "    stn = STN()\n",
    "    stn.add_edge('START', 'START', TemporalConstraint([0.0, 0.0]))  # Starting point\n",
    "\n",
    "    # Constants for the arrival times setup\n",
    "    initial_delay = 10  # Initial delay for the first patient\n",
    "    max_time = 10\n",
    "    increment_per_patient = 2  # Increment time for each subsequent patient within a wave\n",
    "    wave_increment = 10  # Time increment per wave\n",
    "    patients_per_wave = 5\n",
    "    num_waves = num_patients // patients_per_wave\n",
    "\n",
    "    # Generate edges\n",
    "    for wave in range(num_waves):\n",
    "        for i in range(patients_per_wave):\n",
    "            patient_number = wave * patients_per_wave + i + 1\n",
    "            patient_id = f'Patient_{patient_number}_arrives'\n",
    "            min_time = 0\n",
    "            max_time += increment_per_patient\n",
    "            stn.add_edge('START', patient_id, TemporalConstraint([min_time, max_time]))\n",
    "            print(f\"Added edge from START to {patient_id} with time window [{min_time}, {max_time}]\")\n",
    "\n",
    "    return stn\n",
    "\n",
    "hospital_stn = setup_patient_arrivals()"
   ]
  },
  {
   "cell_type": "code",
   "execution_count": null,
   "id": "845dfab6",
   "metadata": {},
   "outputs": [],
   "source": [
    "from drea import drea"
   ]
  },
  {
   "cell_type": "code",
   "execution_count": null,
   "id": "616d633b",
   "metadata": {},
   "outputs": [
    {
     "name": "stdout",
     "output_type": "stream",
     "text": [
      "\u001b[33m000.0000\u001b[0m: Starting\n",
      "\u001b[33m012.0908\u001b[0m: Dispatched Patient_1_arrives \n"
     ]
    }
   ],
   "source": [
    "drea(hospital_stn, dispatcher)"
   ]
  },
  {
   "cell_type": "code",
   "execution_count": 12,
   "id": "86bcda4f",
   "metadata": {},
   "outputs": [
    {
     "name": "stdout",
     "output_type": "stream",
     "text": [
      "Added edge from Patient_1_arrives to Patient_1_transported_to_bed with time window [0.0, 10.0]\n",
      "Added edge from Patient_2_arrives to Patient_2_transported_to_bed with time window [0.0, 10.0]\n",
      "Added edge from Patient_3_arrives to Patient_3_transported_to_bed with time window [0.0, 10.0]\n",
      "Added edge from Patient_4_arrives to Patient_4_transported_to_bed with time window [0.0, 10.0]\n",
      "Added edge from Patient_5_arrives to Patient_5_transported_to_bed with time window [0.0, 10.0]\n",
      "Added edge from Patient_6_arrives to Patient_6_transported_to_bed with time window [0.0, 10.0]\n",
      "Added edge from Patient_7_arrives to Patient_7_transported_to_bed with time window [0.0, 10.0]\n",
      "Added edge from Patient_8_arrives to Patient_8_transported_to_bed with time window [0.0, 10.0]\n",
      "Added edge from Patient_9_arrives to Patient_9_transported_to_bed with time window [0.0, 10.0]\n",
      "Added edge from Patient_10_arrives to Patient_10_transported_to_bed with time window [0.0, 10.0]\n",
      "Added edge from Patient_11_arrives to Patient_11_transported_to_bed with time window [0.0, 10.0]\n",
      "Added edge from Patient_12_arrives to Patient_12_transported_to_bed with time window [0.0, 10.0]\n",
      "Added edge from Patient_13_arrives to Patient_13_transported_to_bed with time window [0.0, 10.0]\n",
      "Added edge from Patient_14_arrives to Patient_14_transported_to_bed with time window [0.0, 10.0]\n",
      "Added edge from Patient_15_arrives to Patient_15_transported_to_bed with time window [0.0, 10.0]\n",
      "Added edge from Patient_16_arrives to Patient_16_transported_to_bed with time window [0.0, 10.0]\n",
      "Added edge from Patient_17_arrives to Patient_17_transported_to_bed with time window [0.0, 10.0]\n",
      "Added edge from Patient_18_arrives to Patient_18_transported_to_bed with time window [0.0, 10.0]\n",
      "Added edge from Patient_19_arrives to Patient_19_transported_to_bed with time window [0.0, 10.0]\n",
      "Added edge from Patient_20_arrives to Patient_20_transported_to_bed with time window [0.0, 10.0]\n",
      "Added edge from Patient_21_arrives to Patient_21_transported_to_bed with time window [0.0, 10.0]\n",
      "Added edge from Patient_22_arrives to Patient_22_transported_to_bed with time window [0.0, 10.0]\n",
      "Added edge from Patient_23_arrives to Patient_23_transported_to_bed with time window [0.0, 10.0]\n",
      "Added edge from Patient_24_arrives to Patient_24_transported_to_bed with time window [0.0, 10.0]\n",
      "Added edge from Patient_25_arrives to Patient_25_transported_to_bed with time window [0.0, 10.0]\n"
     ]
    }
   ],
   "source": [
    "for i in range(1, num_patients + 1):\n",
    "    arrival_node = f'Patient_{i}_arrives'\n",
    "    transport_node = f'Patient_{i}_transported_to_bed'\n",
    "    # Transportation can happen immediately after arrival but has a window up to 10 minutes later\n",
    "    hospital_stn.add_edge(arrival_node, transport_node, TemporalConstraint([5, 15]))\n",
    "    print(f\"Added edge from {arrival_node} to {transport_node} with time window [0.0, 10.0]\")"
   ]
  },
  {
   "cell_type": "code",
   "execution_count": 13,
   "id": "dd0a9cf1",
   "metadata": {},
   "outputs": [
    {
     "data": {
      "text/plain": [
       "NodeView(('START', 'Patient_1_arrives', 'Patient_2_arrives', 'Patient_3_arrives', 'Patient_4_arrives', 'Patient_5_arrives', 'Patient_6_arrives', 'Patient_7_arrives', 'Patient_8_arrives', 'Patient_9_arrives', 'Patient_10_arrives', 'Patient_11_arrives', 'Patient_12_arrives', 'Patient_13_arrives', 'Patient_14_arrives', 'Patient_15_arrives', 'Patient_16_arrives', 'Patient_17_arrives', 'Patient_18_arrives', 'Patient_19_arrives', 'Patient_20_arrives', 'Patient_21_arrives', 'Patient_22_arrives', 'Patient_23_arrives', 'Patient_24_arrives', 'Patient_25_arrives', 'Patient_1_transported_to_bed', 'Patient_2_transported_to_bed', 'Patient_3_transported_to_bed', 'Patient_4_transported_to_bed', 'Patient_5_transported_to_bed', 'Patient_6_transported_to_bed', 'Patient_7_transported_to_bed', 'Patient_8_transported_to_bed', 'Patient_9_transported_to_bed', 'Patient_10_transported_to_bed', 'Patient_11_transported_to_bed', 'Patient_12_transported_to_bed', 'Patient_13_transported_to_bed', 'Patient_14_transported_to_bed', 'Patient_15_transported_to_bed', 'Patient_16_transported_to_bed', 'Patient_17_transported_to_bed', 'Patient_18_transported_to_bed', 'Patient_19_transported_to_bed', 'Patient_20_transported_to_bed', 'Patient_21_transported_to_bed', 'Patient_22_transported_to_bed', 'Patient_23_transported_to_bed', 'Patient_24_transported_to_bed', 'Patient_25_transported_to_bed'))"
      ]
     },
     "execution_count": 13,
     "metadata": {},
     "output_type": "execute_result"
    }
   ],
   "source": [
    "hospital_stn.stn.nodes"
   ]
  },
  {
   "cell_type": "code",
   "execution_count": 14,
   "id": "12e76785",
   "metadata": {},
   "outputs": [
    {
     "ename": "KeyError",
     "evalue": "'Patient_1_transported_to_bed'",
     "output_type": "error",
     "traceback": [
      "\u001b[0;31m---------------------------------------------------------------------------\u001b[0m",
      "\u001b[0;31mKeyError\u001b[0m                                  Traceback (most recent call last)",
      "\u001b[0;32m/var/folders/7y/3tf3c7ws7mq6qq19_sk___m00000gn/T/ipykernel_55269/3041830844.py\u001b[0m in \u001b[0;36m<module>\u001b[0;34m\u001b[0m\n\u001b[0;32m----> 1\u001b[0;31m \u001b[0mdrea\u001b[0m\u001b[0;34m(\u001b[0m\u001b[0mhospital_stn\u001b[0m\u001b[0;34m,\u001b[0m \u001b[0mdispatcher\u001b[0m\u001b[0;34m)\u001b[0m\u001b[0;34m\u001b[0m\u001b[0;34m\u001b[0m\u001b[0m\n\u001b[0m",
      "\u001b[0;32m/var/folders/7y/3tf3c7ws7mq6qq19_sk___m00000gn/T/ipykernel_55269/2465490706.py\u001b[0m in \u001b[0;36mdrea\u001b[0;34m(pstn, dispatcher)\u001b[0m\n\u001b[1;32m     18\u001b[0m \u001b[0;34m\u001b[0m\u001b[0m\n\u001b[1;32m     19\u001b[0m \u001b[0;32mdef\u001b[0m \u001b[0mdrea\u001b[0m\u001b[0;34m(\u001b[0m\u001b[0mpstn\u001b[0m \u001b[0;34m:\u001b[0m \u001b[0mSTN\u001b[0m\u001b[0;34m,\u001b[0m \u001b[0mdispatcher\u001b[0m \u001b[0;34m:\u001b[0m \u001b[0mDispatcher\u001b[0m\u001b[0;34m)\u001b[0m\u001b[0;34m:\u001b[0m\u001b[0;34m\u001b[0m\u001b[0;34m\u001b[0m\u001b[0m\n\u001b[0;32m---> 20\u001b[0;31m     \u001b[0msrea_out\u001b[0m \u001b[0;34m=\u001b[0m \u001b[0msrea\u001b[0m\u001b[0;34m(\u001b[0m\u001b[0mpstn\u001b[0m\u001b[0;34m)\u001b[0m\u001b[0;34m\u001b[0m\u001b[0;34m\u001b[0m\u001b[0m\n\u001b[0m\u001b[1;32m     21\u001b[0m     \u001b[0mguide_stn\u001b[0m \u001b[0;34m:\u001b[0m \u001b[0mSTN\u001b[0m \u001b[0;34m=\u001b[0m \u001b[0msrea_out\u001b[0m\u001b[0;34m[\u001b[0m\u001b[0;34m'stnu'\u001b[0m\u001b[0;34m]\u001b[0m\u001b[0;34m\u001b[0m\u001b[0;34m\u001b[0m\u001b[0m\n\u001b[1;32m     22\u001b[0m     \u001b[0mexecution_windows\u001b[0m \u001b[0;34m=\u001b[0m \u001b[0msrea_out\u001b[0m\u001b[0;34m[\u001b[0m\u001b[0;34m'execution_windows'\u001b[0m\u001b[0;34m]\u001b[0m\u001b[0;34m\u001b[0m\u001b[0;34m\u001b[0m\u001b[0m\n",
      "\u001b[0;32m~/Library/CloudStorage/GoogleDrive-pyin@college.harvard.edu/My Drive/Harvard/Classes/Junior/Cognitive Robotics/Final/grand_challenge/src/srea.py\u001b[0m in \u001b[0;36msrea\u001b[0;34m(stn, am, ap, r)\u001b[0m\n\u001b[1;32m    141\u001b[0m             \u001b[0;34m'stnu'\u001b[0m \u001b[0;34m:\u001b[0m \u001b[0moptimize_timepoints\u001b[0m\u001b[0;34m(\u001b[0m\u001b[0mstn\u001b[0m\u001b[0;34m,\u001b[0m \u001b[0map\u001b[0m\u001b[0;34m)\u001b[0m\u001b[0;34m[\u001b[0m\u001b[0;34m'stnu'\u001b[0m\u001b[0;34m]\u001b[0m\u001b[0;34m\u001b[0m\u001b[0;34m\u001b[0m\u001b[0m\n\u001b[1;32m    142\u001b[0m         }\n\u001b[0;32m--> 143\u001b[0;31m \u001b[0;34m\u001b[0m\u001b[0m\n\u001b[0m\u001b[1;32m    144\u001b[0m     \u001b[0man\u001b[0m \u001b[0;34m=\u001b[0m \u001b[0;34m(\u001b[0m\u001b[0mam\u001b[0m \u001b[0;34m+\u001b[0m \u001b[0map\u001b[0m\u001b[0;34m)\u001b[0m \u001b[0;34m/\u001b[0m \u001b[0;36m2\u001b[0m\u001b[0;34m\u001b[0m\u001b[0;34m\u001b[0m\u001b[0m\n\u001b[1;32m    145\u001b[0m \u001b[0;34m\u001b[0m\u001b[0m\n",
      "\u001b[0;32m~/Library/CloudStorage/GoogleDrive-pyin@college.harvard.edu/My Drive/Harvard/Classes/Junior/Cognitive Robotics/Final/grand_challenge/src/srea.py\u001b[0m in \u001b[0;36moptimize_timepoints\u001b[0;34m(template_stn, a)\u001b[0m\n\u001b[1;32m    107\u001b[0m \u001b[0;34m\u001b[0m\u001b[0m\n\u001b[1;32m    108\u001b[0m     \u001b[0;32mif\u001b[0m \u001b[0mopt\u001b[0m\u001b[0;34m.\u001b[0m\u001b[0mstatus\u001b[0m \u001b[0;34m==\u001b[0m \u001b[0;36m0\u001b[0m\u001b[0;34m:\u001b[0m\u001b[0;34m\u001b[0m\u001b[0;34m\u001b[0m\u001b[0m\n\u001b[0;32m--> 109\u001b[0;31m         \u001b[0mconvert_to_stnu\u001b[0m\u001b[0;34m(\u001b[0m\u001b[0mstn\u001b[0m\u001b[0;34m,\u001b[0m \u001b[0mopt\u001b[0m\u001b[0;34m,\u001b[0m \u001b[0mcontingent_edge_map\u001b[0m\u001b[0;34m)\u001b[0m\u001b[0;34m\u001b[0m\u001b[0;34m\u001b[0m\u001b[0m\n\u001b[0m\u001b[1;32m    110\u001b[0m \u001b[0;34m\u001b[0m\u001b[0m\n\u001b[1;32m    111\u001b[0m     return {\n",
      "\u001b[0;32m~/Library/CloudStorage/GoogleDrive-pyin@college.harvard.edu/My Drive/Harvard/Classes/Junior/Cognitive Robotics/Final/grand_challenge/src/srea.py\u001b[0m in \u001b[0;36mconvert_to_stnu\u001b[0;34m(stn, opt, contingent_edge_map)\u001b[0m\n\u001b[1;32m    119\u001b[0m     \u001b[0mnodes\u001b[0m \u001b[0;34m=\u001b[0m \u001b[0mstn\u001b[0m\u001b[0;34m.\u001b[0m\u001b[0mstn\u001b[0m\u001b[0;34m.\u001b[0m\u001b[0mnodes\u001b[0m\u001b[0;34m\u001b[0m\u001b[0;34m\u001b[0m\u001b[0m\n\u001b[1;32m    120\u001b[0m     \u001b[0;32mfor\u001b[0m \u001b[0mi\u001b[0m\u001b[0;34m,\u001b[0m \u001b[0mnode\u001b[0m \u001b[0;32min\u001b[0m \u001b[0menumerate\u001b[0m\u001b[0;34m(\u001b[0m\u001b[0mnodes\u001b[0m\u001b[0;34m)\u001b[0m\u001b[0;34m:\u001b[0m\u001b[0;34m\u001b[0m\u001b[0;34m\u001b[0m\u001b[0m\n\u001b[0;32m--> 121\u001b[0;31m         \u001b[0;32mif\u001b[0m \u001b[0mstn\u001b[0m\u001b[0;34m.\u001b[0m\u001b[0mstn\u001b[0m\u001b[0;34m.\u001b[0m\u001b[0mhas_edge\u001b[0m\u001b[0;34m(\u001b[0m\u001b[0;34m'START'\u001b[0m\u001b[0;34m,\u001b[0m \u001b[0mnode\u001b[0m\u001b[0;34m)\u001b[0m\u001b[0;34m:\u001b[0m\u001b[0;34m\u001b[0m\u001b[0;34m\u001b[0m\u001b[0m\n\u001b[0m\u001b[1;32m    122\u001b[0m             \u001b[0mstn\u001b[0m\u001b[0;34m.\u001b[0m\u001b[0mstn\u001b[0m\u001b[0;34m[\u001b[0m\u001b[0;34m'START'\u001b[0m\u001b[0;34m]\u001b[0m\u001b[0;34m[\u001b[0m\u001b[0mnode\u001b[0m\u001b[0;34m]\u001b[0m\u001b[0;34m[\u001b[0m\u001b[0;34m'tc'\u001b[0m\u001b[0;34m]\u001b[0m \u001b[0;34m=\u001b[0m \u001b[0mTemporalConstraint\u001b[0m\u001b[0;34m(\u001b[0m\u001b[0;34m[\u001b[0m\u001b[0mopt\u001b[0m\u001b[0;34m.\u001b[0m\u001b[0mx\u001b[0m\u001b[0;34m[\u001b[0m\u001b[0;36m2\u001b[0m\u001b[0;34m*\u001b[0m\u001b[0mi\u001b[0m\u001b[0;34m+\u001b[0m\u001b[0;36m1\u001b[0m\u001b[0;34m]\u001b[0m\u001b[0;34m,\u001b[0m \u001b[0mopt\u001b[0m\u001b[0;34m.\u001b[0m\u001b[0mx\u001b[0m\u001b[0;34m[\u001b[0m\u001b[0;36m2\u001b[0m\u001b[0;34m*\u001b[0m\u001b[0mi\u001b[0m\u001b[0;34m]\u001b[0m\u001b[0;34m]\u001b[0m\u001b[0;34m)\u001b[0m\u001b[0;34m\u001b[0m\u001b[0;34m\u001b[0m\u001b[0m\n\u001b[1;32m    123\u001b[0m         \u001b[0;32melse\u001b[0m\u001b[0;34m:\u001b[0m\u001b[0;34m\u001b[0m\u001b[0;34m\u001b[0m\u001b[0m\n",
      "\u001b[0;32m~/opt/anaconda3/lib/python3.8/site-packages/networkx/classes/coreviews.py\u001b[0m in \u001b[0;36m__getitem__\u001b[0;34m(self, key)\u001b[0m\n\u001b[1;32m     52\u001b[0m \u001b[0;34m\u001b[0m\u001b[0m\n\u001b[1;32m     53\u001b[0m     \u001b[0;32mdef\u001b[0m \u001b[0m__getitem__\u001b[0m\u001b[0;34m(\u001b[0m\u001b[0mself\u001b[0m\u001b[0;34m,\u001b[0m \u001b[0mkey\u001b[0m\u001b[0;34m)\u001b[0m\u001b[0;34m:\u001b[0m\u001b[0;34m\u001b[0m\u001b[0;34m\u001b[0m\u001b[0m\n\u001b[0;32m---> 54\u001b[0;31m         \u001b[0;32mreturn\u001b[0m \u001b[0mself\u001b[0m\u001b[0;34m.\u001b[0m\u001b[0m_atlas\u001b[0m\u001b[0;34m[\u001b[0m\u001b[0mkey\u001b[0m\u001b[0;34m]\u001b[0m\u001b[0;34m\u001b[0m\u001b[0;34m\u001b[0m\u001b[0m\n\u001b[0m\u001b[1;32m     55\u001b[0m \u001b[0;34m\u001b[0m\u001b[0m\n\u001b[1;32m     56\u001b[0m     \u001b[0;32mdef\u001b[0m \u001b[0mcopy\u001b[0m\u001b[0;34m(\u001b[0m\u001b[0mself\u001b[0m\u001b[0;34m)\u001b[0m\u001b[0;34m:\u001b[0m\u001b[0;34m\u001b[0m\u001b[0;34m\u001b[0m\u001b[0m\n",
      "\u001b[0;31mKeyError\u001b[0m: 'Patient_1_transported_to_bed'"
     ]
    }
   ],
   "source": [
    "drea(hospital_stn, dispatcher)"
   ]
  },
  {
   "cell_type": "code",
   "execution_count": 17,
   "id": "61ded77d",
   "metadata": {},
   "outputs": [
    {
     "name": "stdout",
     "output_type": "stream",
     "text": [
      "Screening for Patient 1 is set up with nurse and robot arrival dependencies.\n",
      "Screening for Patient 2 is set up with nurse and robot arrival dependencies.\n",
      "Screening for Patient 3 is set up with nurse and robot arrival dependencies.\n",
      "Screening for Patient 4 is set up with nurse and robot arrival dependencies.\n",
      "Screening for Patient 5 is set up with nurse and robot arrival dependencies.\n",
      "Screening for Patient 6 is set up with nurse and robot arrival dependencies.\n",
      "Screening for Patient 7 is set up with nurse and robot arrival dependencies.\n",
      "Screening for Patient 8 is set up with nurse and robot arrival dependencies.\n",
      "Screening for Patient 9 is set up with nurse and robot arrival dependencies.\n",
      "Screening for Patient 10 is set up with nurse and robot arrival dependencies.\n",
      "Screening for Patient 11 is set up with nurse and robot arrival dependencies.\n",
      "Screening for Patient 12 is set up with nurse and robot arrival dependencies.\n",
      "Screening for Patient 13 is set up with nurse and robot arrival dependencies.\n",
      "Screening for Patient 14 is set up with nurse and robot arrival dependencies.\n",
      "Screening for Patient 15 is set up with nurse and robot arrival dependencies.\n",
      "Screening for Patient 16 is set up with nurse and robot arrival dependencies.\n",
      "Screening for Patient 17 is set up with nurse and robot arrival dependencies.\n",
      "Screening for Patient 18 is set up with nurse and robot arrival dependencies.\n",
      "Screening for Patient 19 is set up with nurse and robot arrival dependencies.\n",
      "Screening for Patient 20 is set up with nurse and robot arrival dependencies.\n",
      "Screening for Patient 21 is set up with nurse and robot arrival dependencies.\n",
      "Screening for Patient 22 is set up with nurse and robot arrival dependencies.\n",
      "Screening for Patient 23 is set up with nurse and robot arrival dependencies.\n",
      "Screening for Patient 24 is set up with nurse and robot arrival dependencies.\n",
      "Screening for Patient 25 is set up with nurse and robot arrival dependencies.\n"
     ]
    }
   ],
   "source": [
    "def setup_healthcare_stn(transported_stn):\n",
    "    num_patients = 25  # Number of patients\n",
    "\n",
    "    for i in range(1, num_patients + 1):\n",
    "        transport_node = f'Patient_{i}_transported_to_bed'\n",
    "        nurse_arrival_node = f'Nurse_arrives_for_Patient_{i}'\n",
    "        robot_arrival_node = f'Robot_arrives_for_Patient_{i}'\n",
    "        screening_start_node = f'Patient_{i}_screening_starts'\n",
    "        screening_end_node = f'Patient_{i}_screening_ends'\n",
    "\n",
    "        # Add edges for nurse and robot to arrive after patient is transported to bed\n",
    "        stn.add_edge(transport_node, nurse_arrival_node, TemporalConstraint([0.0, 15.0]))\n",
    "        stn.add_edge(transport_node, robot_arrival_node, TemporalConstraint([0.0, 10.0]))\n",
    "\n",
    "        # Add synchronization edges\n",
    "        # These edges imply that the screening cannot start until both have arrived\n",
    "        stn.add_edge(nurse_arrival_node, screening_start_node, TemporalConstraint([0.0, float('inf')]))\n",
    "        stn.add_edge(robot_arrival_node, screening_start_node, TemporalConstraint([0.0, float('inf')]))\n",
    "\n",
    "        # Define screening duration\n",
    "        stn.add_edge(screening_start_node, screening_end_node, TemporalConstraint([5.0, 5.0]))\n",
    "\n",
    "        print(f\"Screening for Patient {i} is set up with nurse and robot arrival dependencies.\")\n",
    "\n",
    "    return stn\n",
    "\n",
    "# Create the STN for the healthcare scenario\n",
    "hospital_stn = setup_healthcare_stn(hospital_stn)"
   ]
  },
  {
   "cell_type": "code",
   "execution_count": 31,
   "id": "79f58a97",
   "metadata": {},
   "outputs": [
    {
     "name": "stdout",
     "output_type": "stream",
     "text": [
      "Added edge from START to Patient_1_arrives with time window [0, 12]\n",
      "Workflow for Patient 1 from arrival to post-operative care is set up.\n",
      "Added edge from START to Patient_2_arrives with time window [0, 14]\n",
      "Workflow for Patient 2 from arrival to post-operative care is set up.\n",
      "Added edge from START to Patient_3_arrives with time window [0, 16]\n",
      "Workflow for Patient 3 from arrival to post-operative care is set up.\n",
      "Added edge from START to Patient_4_arrives with time window [0, 18]\n",
      "Workflow for Patient 4 from arrival to post-operative care is set up.\n",
      "Added edge from START to Patient_5_arrives with time window [0, 20]\n",
      "Workflow for Patient 5 from arrival to post-operative care is set up.\n",
      "Added edge from START to Patient_6_arrives with time window [0, 22]\n",
      "Workflow for Patient 6 from arrival to post-operative care is set up.\n",
      "Added edge from START to Patient_7_arrives with time window [0, 24]\n",
      "Workflow for Patient 7 from arrival to post-operative care is set up.\n",
      "Added edge from START to Patient_8_arrives with time window [0, 26]\n",
      "Workflow for Patient 8 from arrival to post-operative care is set up.\n",
      "Added edge from START to Patient_9_arrives with time window [0, 28]\n",
      "Workflow for Patient 9 from arrival to post-operative care is set up.\n",
      "Added edge from START to Patient_10_arrives with time window [0, 30]\n",
      "Workflow for Patient 10 from arrival to post-operative care is set up.\n",
      "Added edge from START to Patient_11_arrives with time window [0, 32]\n",
      "Workflow for Patient 11 from arrival to post-operative care is set up.\n",
      "Added edge from START to Patient_12_arrives with time window [0, 34]\n",
      "Workflow for Patient 12 from arrival to post-operative care is set up.\n",
      "Added edge from START to Patient_13_arrives with time window [0, 36]\n",
      "Workflow for Patient 13 from arrival to post-operative care is set up.\n",
      "Added edge from START to Patient_14_arrives with time window [0, 38]\n",
      "Workflow for Patient 14 from arrival to post-operative care is set up.\n",
      "Added edge from START to Patient_15_arrives with time window [0, 40]\n",
      "Workflow for Patient 15 from arrival to post-operative care is set up.\n",
      "Added edge from START to Patient_16_arrives with time window [0, 42]\n",
      "Workflow for Patient 16 from arrival to post-operative care is set up.\n",
      "Added edge from START to Patient_17_arrives with time window [0, 44]\n",
      "Workflow for Patient 17 from arrival to post-operative care is set up.\n",
      "Added edge from START to Patient_18_arrives with time window [0, 46]\n",
      "Workflow for Patient 18 from arrival to post-operative care is set up.\n",
      "Added edge from START to Patient_19_arrives with time window [0, 48]\n",
      "Workflow for Patient 19 from arrival to post-operative care is set up.\n",
      "Added edge from START to Patient_20_arrives with time window [0, 50]\n",
      "Workflow for Patient 20 from arrival to post-operative care is set up.\n",
      "Added edge from START to Patient_21_arrives with time window [0, 52]\n",
      "Workflow for Patient 21 from arrival to post-operative care is set up.\n",
      "Added edge from START to Patient_22_arrives with time window [0, 54]\n",
      "Workflow for Patient 22 from arrival to post-operative care is set up.\n",
      "Added edge from START to Patient_23_arrives with time window [0, 56]\n",
      "Workflow for Patient 23 from arrival to post-operative care is set up.\n",
      "Added edge from START to Patient_24_arrives with time window [0, 58]\n",
      "Workflow for Patient 24 from arrival to post-operative care is set up.\n",
      "Added edge from START to Patient_25_arrives with time window [0, 60]\n",
      "Workflow for Patient 25 from arrival to post-operative care is set up.\n"
     ]
    }
   ],
   "source": [
    "from scipy.stats import norm\n",
    "from temporal_constraint import TemporalConstraint\n",
    "from stn import STN\n",
    "\n",
    "def setup_healthcare_process():\n",
    "    stn = STN()\n",
    "    stn.add_edge('START', 'START', TemporalConstraint([0.0, 0.0]))\n",
    "    num_patients = 25\n",
    "\n",
    "    # Constants for the arrival times setup\n",
    "    initial_delay = 10  # Initial delay for the first patient\n",
    "    max_time = 10\n",
    "    increment_per_patient = 2  # Increment time for each subsequent patient within a wave\n",
    "    wave_increment = 10  # Time increment per wave\n",
    "    patients_per_wave = 5\n",
    "    num_waves = num_patients // patients_per_wave\n",
    "\n",
    "    # Setup patient arrivals with increasing time windows\n",
    "    for wave in range(num_waves):\n",
    "        for i in range(patients_per_wave):\n",
    "            patient_number = wave * patients_per_wave + i + 1\n",
    "            patient_id = f'Patient_{patient_number}_arrives'\n",
    "            min_time = 0\n",
    "            max_time += increment_per_patient\n",
    "            stn.add_edge('START', patient_id, TemporalConstraint([min_time, max_time]))\n",
    "            print(f\"Added edge from START to {patient_id} with time window [{min_time}, {max_time}]\")\n",
    "\n",
    "            # Extend setup to cover the entire patient care process\n",
    "            transport_to_bed_node = f'Patient_{patient_number}_transported_to_bed'\n",
    "            nurse_arrival_node = f'Nurse_arrives_for_Patient_{patient_number}'\n",
    "            robot_arrival_node = f'Robot_arrives_for_Patient_{patient_number}'\n",
    "            screening_start_node = f'Patient_{patient_number}_screening_starts'\n",
    "            screening_end_node = f'Patient_{patient_number}_screening_ends'\n",
    "            scan_begin_node = f'Patient_{patient_number}_scan_begins'\n",
    "            scan_end_node = f'Patient_{patient_number}_scan_ends'\n",
    "            doctor_arrival_node = f'Doctor_arrives_for_Patient_{patient_number}'\n",
    "            doctor_leave_node = f'Doctor_leaves_Patient_{patient_number}'\n",
    "            transport_to_surgery_node = f'Patient_{patient_number}_surgery_transport'\n",
    "            surgery_start_node = f'Patient_{patient_number}_surgery'\n",
    "            surgery_end_node = f'Patient_{patient_number}_surgery_end'\n",
    "            robot_post_op_node = f'Robot_arrives_for_Patient_{patient_number}_post_op'\n",
    "\n",
    "            # Define the connections and temporal constraints\n",
    "            stn.add_edge(patient_id, transport_to_bed_node, TemporalConstraint([5, 15]))\n",
    "            stn.add_edge(transport_to_bed_node, nurse_arrival_node, TemporalConstraint([0, 15]))\n",
    "            stn.add_edge(transport_to_bed_node, robot_arrival_node, TemporalConstraint([0, 10]))\n",
    "            stn.add_edge(nurse_arrival_node, screening_start_node, TemporalConstraint([0, 1000]))\n",
    "            stn.add_edge(robot_arrival_node, screening_start_node, TemporalConstraint([0, 1000]))\n",
    "            stn.add_edge(screening_start_node, screening_end_node, TemporalConstraint([5, 5]))\n",
    "            stn.add_edge(screening_end_node, scan_begin_node, TemporalConstraint([0, 0]))\n",
    "            stn.add_edge(scan_begin_node, scan_end_node, TemporalConstraint(norm(loc=15, scale=7), contingent=True))\n",
    "            stn.add_edge(scan_end_node, doctor_arrival_node, TemporalConstraint(norm(loc=4, scale=2), contingent=True))\n",
    "            stn.add_edge(doctor_arrival_node, doctor_leave_node, TemporalConstraint(norm(loc=5, scale=10), contingent=True))\n",
    "            stn.add_edge(doctor_leave_node, transport_to_surgery_node, TemporalConstraint([0, 10]))\n",
    "            stn.add_edge(transport_to_surgery_node, surgery_start_node, TemporalConstraint([5, 5]))\n",
    "            stn.add_edge(surgery_start_node, surgery_end_node, TemporalConstraint(norm(loc=20, scale=2), contingent=True))\n",
    "            stn.add_edge(surgery_end_node, robot_post_op_node, TemporalConstraint([0, 10]))\n",
    "\n",
    "            print(f\"Workflow for Patient {patient_number} from arrival to post-operative care is set up.\")\n",
    "\n",
    "    return stn\n",
    "\n",
    "# Create and setup the healthcare STN\n",
    "complete_healthcare_stn = setup_healthcare_process()"
   ]
  },
  {
   "cell_type": "code",
   "execution_count": 32,
   "id": "c75a7d9c",
   "metadata": {},
   "outputs": [
    {
     "ename": "KeyError",
     "evalue": "'Patient_1_transported_to_bed'",
     "output_type": "error",
     "traceback": [
      "\u001b[0;31m---------------------------------------------------------------------------\u001b[0m",
      "\u001b[0;31mKeyError\u001b[0m                                  Traceback (most recent call last)",
      "\u001b[0;32m/var/folders/7y/3tf3c7ws7mq6qq19_sk___m00000gn/T/ipykernel_55046/2734942941.py\u001b[0m in \u001b[0;36m<module>\u001b[0;34m\u001b[0m\n\u001b[0;32m----> 1\u001b[0;31m \u001b[0mdrea\u001b[0m\u001b[0;34m(\u001b[0m\u001b[0mcomplete_healthcare_stn\u001b[0m\u001b[0;34m,\u001b[0m \u001b[0mdispatcher\u001b[0m\u001b[0;34m)\u001b[0m\u001b[0;34m\u001b[0m\u001b[0;34m\u001b[0m\u001b[0m\n\u001b[0m",
      "\u001b[0;32m/var/folders/7y/3tf3c7ws7mq6qq19_sk___m00000gn/T/ipykernel_55046/2465490706.py\u001b[0m in \u001b[0;36mdrea\u001b[0;34m(pstn, dispatcher)\u001b[0m\n\u001b[1;32m     18\u001b[0m \u001b[0;34m\u001b[0m\u001b[0m\n\u001b[1;32m     19\u001b[0m \u001b[0;32mdef\u001b[0m \u001b[0mdrea\u001b[0m\u001b[0;34m(\u001b[0m\u001b[0mpstn\u001b[0m \u001b[0;34m:\u001b[0m \u001b[0mSTN\u001b[0m\u001b[0;34m,\u001b[0m \u001b[0mdispatcher\u001b[0m \u001b[0;34m:\u001b[0m \u001b[0mDispatcher\u001b[0m\u001b[0;34m)\u001b[0m\u001b[0;34m:\u001b[0m\u001b[0;34m\u001b[0m\u001b[0;34m\u001b[0m\u001b[0m\n\u001b[0;32m---> 20\u001b[0;31m     \u001b[0msrea_out\u001b[0m \u001b[0;34m=\u001b[0m \u001b[0msrea\u001b[0m\u001b[0;34m(\u001b[0m\u001b[0mpstn\u001b[0m\u001b[0;34m)\u001b[0m\u001b[0;34m\u001b[0m\u001b[0;34m\u001b[0m\u001b[0m\n\u001b[0m\u001b[1;32m     21\u001b[0m     \u001b[0mguide_stn\u001b[0m \u001b[0;34m:\u001b[0m \u001b[0mSTN\u001b[0m \u001b[0;34m=\u001b[0m \u001b[0msrea_out\u001b[0m\u001b[0;34m[\u001b[0m\u001b[0;34m'stnu'\u001b[0m\u001b[0;34m]\u001b[0m\u001b[0;34m\u001b[0m\u001b[0;34m\u001b[0m\u001b[0m\n\u001b[1;32m     22\u001b[0m     \u001b[0mexecution_windows\u001b[0m \u001b[0;34m=\u001b[0m \u001b[0msrea_out\u001b[0m\u001b[0;34m[\u001b[0m\u001b[0;34m'execution_windows'\u001b[0m\u001b[0;34m]\u001b[0m\u001b[0;34m\u001b[0m\u001b[0;34m\u001b[0m\u001b[0m\n",
      "\u001b[0;32m~/Library/CloudStorage/GoogleDrive-pyin@college.harvard.edu/My Drive/Harvard/Classes/Junior/Cognitive Robotics/Final/grand_challenge/src/srea.py\u001b[0m in \u001b[0;36msrea\u001b[0;34m(stn, am, ap, r)\u001b[0m\n\u001b[1;32m    142\u001b[0m \u001b[0;34m\u001b[0m\u001b[0m\n\u001b[1;32m    143\u001b[0m     \u001b[0;32mif\u001b[0m \u001b[0moptimize_timepoints\u001b[0m\u001b[0;34m(\u001b[0m\u001b[0mstn\u001b[0m\u001b[0;34m,\u001b[0m \u001b[0man\u001b[0m\u001b[0;34m)\u001b[0m\u001b[0;34m[\u001b[0m\u001b[0;34m'status'\u001b[0m\u001b[0;34m]\u001b[0m \u001b[0;34m==\u001b[0m \u001b[0;36m2\u001b[0m\u001b[0;34m:\u001b[0m \u001b[0;31m# infeasible\u001b[0m\u001b[0;34m\u001b[0m\u001b[0;34m\u001b[0m\u001b[0m\n\u001b[0;32m--> 144\u001b[0;31m         \u001b[0;32mreturn\u001b[0m \u001b[0msrea\u001b[0m\u001b[0;34m(\u001b[0m\u001b[0mstn\u001b[0m\u001b[0;34m,\u001b[0m \u001b[0man\u001b[0m\u001b[0;34m,\u001b[0m \u001b[0map\u001b[0m\u001b[0;34m,\u001b[0m \u001b[0mr\u001b[0m\u001b[0;34m)\u001b[0m\u001b[0;34m\u001b[0m\u001b[0;34m\u001b[0m\u001b[0m\n\u001b[0m\u001b[1;32m    145\u001b[0m \u001b[0;34m\u001b[0m\u001b[0m\n\u001b[1;32m    146\u001b[0m     \u001b[0;32mreturn\u001b[0m \u001b[0msrea\u001b[0m\u001b[0;34m(\u001b[0m\u001b[0mstn\u001b[0m\u001b[0;34m,\u001b[0m \u001b[0mam\u001b[0m\u001b[0;34m,\u001b[0m \u001b[0man\u001b[0m\u001b[0;34m,\u001b[0m \u001b[0mr\u001b[0m\u001b[0;34m)\u001b[0m\u001b[0;34m\u001b[0m\u001b[0;34m\u001b[0m\u001b[0m\n",
      "\u001b[0;32m~/Library/CloudStorage/GoogleDrive-pyin@college.harvard.edu/My Drive/Harvard/Classes/Junior/Cognitive Robotics/Final/grand_challenge/src/srea.py\u001b[0m in \u001b[0;36msrea\u001b[0;34m(stn, am, ap, r)\u001b[0m\n\u001b[1;32m    142\u001b[0m \u001b[0;34m\u001b[0m\u001b[0m\n\u001b[1;32m    143\u001b[0m     \u001b[0;32mif\u001b[0m \u001b[0moptimize_timepoints\u001b[0m\u001b[0;34m(\u001b[0m\u001b[0mstn\u001b[0m\u001b[0;34m,\u001b[0m \u001b[0man\u001b[0m\u001b[0;34m)\u001b[0m\u001b[0;34m[\u001b[0m\u001b[0;34m'status'\u001b[0m\u001b[0;34m]\u001b[0m \u001b[0;34m==\u001b[0m \u001b[0;36m2\u001b[0m\u001b[0;34m:\u001b[0m \u001b[0;31m# infeasible\u001b[0m\u001b[0;34m\u001b[0m\u001b[0;34m\u001b[0m\u001b[0m\n\u001b[0;32m--> 144\u001b[0;31m         \u001b[0;32mreturn\u001b[0m \u001b[0msrea\u001b[0m\u001b[0;34m(\u001b[0m\u001b[0mstn\u001b[0m\u001b[0;34m,\u001b[0m \u001b[0man\u001b[0m\u001b[0;34m,\u001b[0m \u001b[0map\u001b[0m\u001b[0;34m,\u001b[0m \u001b[0mr\u001b[0m\u001b[0;34m)\u001b[0m\u001b[0;34m\u001b[0m\u001b[0;34m\u001b[0m\u001b[0m\n\u001b[0m\u001b[1;32m    145\u001b[0m \u001b[0;34m\u001b[0m\u001b[0m\n\u001b[1;32m    146\u001b[0m     \u001b[0;32mreturn\u001b[0m \u001b[0msrea\u001b[0m\u001b[0;34m(\u001b[0m\u001b[0mstn\u001b[0m\u001b[0;34m,\u001b[0m \u001b[0mam\u001b[0m\u001b[0;34m,\u001b[0m \u001b[0man\u001b[0m\u001b[0;34m,\u001b[0m \u001b[0mr\u001b[0m\u001b[0;34m)\u001b[0m\u001b[0;34m\u001b[0m\u001b[0;34m\u001b[0m\u001b[0m\n",
      "\u001b[0;32m~/Library/CloudStorage/GoogleDrive-pyin@college.harvard.edu/My Drive/Harvard/Classes/Junior/Cognitive Robotics/Final/grand_challenge/src/srea.py\u001b[0m in \u001b[0;36msrea\u001b[0;34m(stn, am, ap, r)\u001b[0m\n\u001b[1;32m    141\u001b[0m     \u001b[0man\u001b[0m \u001b[0;34m=\u001b[0m \u001b[0;34m(\u001b[0m\u001b[0mam\u001b[0m \u001b[0;34m+\u001b[0m \u001b[0map\u001b[0m\u001b[0;34m)\u001b[0m \u001b[0;34m/\u001b[0m \u001b[0;36m2\u001b[0m\u001b[0;34m\u001b[0m\u001b[0;34m\u001b[0m\u001b[0m\n\u001b[1;32m    142\u001b[0m \u001b[0;34m\u001b[0m\u001b[0m\n\u001b[0;32m--> 143\u001b[0;31m     \u001b[0;32mif\u001b[0m \u001b[0moptimize_timepoints\u001b[0m\u001b[0;34m(\u001b[0m\u001b[0mstn\u001b[0m\u001b[0;34m,\u001b[0m \u001b[0man\u001b[0m\u001b[0;34m)\u001b[0m\u001b[0;34m[\u001b[0m\u001b[0;34m'status'\u001b[0m\u001b[0;34m]\u001b[0m \u001b[0;34m==\u001b[0m \u001b[0;36m2\u001b[0m\u001b[0;34m:\u001b[0m \u001b[0;31m# infeasible\u001b[0m\u001b[0;34m\u001b[0m\u001b[0;34m\u001b[0m\u001b[0m\n\u001b[0m\u001b[1;32m    144\u001b[0m         \u001b[0;32mreturn\u001b[0m \u001b[0msrea\u001b[0m\u001b[0;34m(\u001b[0m\u001b[0mstn\u001b[0m\u001b[0;34m,\u001b[0m \u001b[0man\u001b[0m\u001b[0;34m,\u001b[0m \u001b[0map\u001b[0m\u001b[0;34m,\u001b[0m \u001b[0mr\u001b[0m\u001b[0;34m)\u001b[0m\u001b[0;34m\u001b[0m\u001b[0;34m\u001b[0m\u001b[0m\n\u001b[1;32m    145\u001b[0m \u001b[0;34m\u001b[0m\u001b[0m\n",
      "\u001b[0;32m~/Library/CloudStorage/GoogleDrive-pyin@college.harvard.edu/My Drive/Harvard/Classes/Junior/Cognitive Robotics/Final/grand_challenge/src/srea.py\u001b[0m in \u001b[0;36moptimize_timepoints\u001b[0;34m(template_stn, a)\u001b[0m\n\u001b[1;32m    107\u001b[0m \u001b[0;34m\u001b[0m\u001b[0m\n\u001b[1;32m    108\u001b[0m     \u001b[0;32mif\u001b[0m \u001b[0mopt\u001b[0m\u001b[0;34m.\u001b[0m\u001b[0mstatus\u001b[0m \u001b[0;34m==\u001b[0m \u001b[0;36m0\u001b[0m\u001b[0;34m:\u001b[0m\u001b[0;34m\u001b[0m\u001b[0;34m\u001b[0m\u001b[0m\n\u001b[0;32m--> 109\u001b[0;31m         \u001b[0mconvert_to_stnu\u001b[0m\u001b[0;34m(\u001b[0m\u001b[0mstn\u001b[0m\u001b[0;34m,\u001b[0m \u001b[0mopt\u001b[0m\u001b[0;34m,\u001b[0m \u001b[0mcontingent_edge_map\u001b[0m\u001b[0;34m)\u001b[0m\u001b[0;34m\u001b[0m\u001b[0;34m\u001b[0m\u001b[0m\n\u001b[0m\u001b[1;32m    110\u001b[0m \u001b[0;34m\u001b[0m\u001b[0m\n\u001b[1;32m    111\u001b[0m     return {\n",
      "\u001b[0;32m~/Library/CloudStorage/GoogleDrive-pyin@college.harvard.edu/My Drive/Harvard/Classes/Junior/Cognitive Robotics/Final/grand_challenge/src/srea.py\u001b[0m in \u001b[0;36mconvert_to_stnu\u001b[0;34m(stn, opt, contingent_edge_map)\u001b[0m\n\u001b[1;32m    119\u001b[0m     \u001b[0mnodes\u001b[0m \u001b[0;34m=\u001b[0m \u001b[0mstn\u001b[0m\u001b[0;34m.\u001b[0m\u001b[0mstn\u001b[0m\u001b[0;34m.\u001b[0m\u001b[0mnodes\u001b[0m\u001b[0;34m\u001b[0m\u001b[0;34m\u001b[0m\u001b[0m\n\u001b[1;32m    120\u001b[0m     \u001b[0;32mfor\u001b[0m \u001b[0mi\u001b[0m\u001b[0;34m,\u001b[0m \u001b[0mnode\u001b[0m \u001b[0;32min\u001b[0m \u001b[0menumerate\u001b[0m\u001b[0;34m(\u001b[0m\u001b[0mnodes\u001b[0m\u001b[0;34m)\u001b[0m\u001b[0;34m:\u001b[0m\u001b[0;34m\u001b[0m\u001b[0;34m\u001b[0m\u001b[0m\n\u001b[0;32m--> 121\u001b[0;31m         \u001b[0mstn\u001b[0m\u001b[0;34m.\u001b[0m\u001b[0mstn\u001b[0m\u001b[0;34m[\u001b[0m\u001b[0;34m'START'\u001b[0m\u001b[0;34m]\u001b[0m\u001b[0;34m[\u001b[0m\u001b[0mnode\u001b[0m\u001b[0;34m]\u001b[0m\u001b[0;34m[\u001b[0m\u001b[0;34m'tc'\u001b[0m\u001b[0;34m]\u001b[0m \u001b[0;34m=\u001b[0m \u001b[0mTemporalConstraint\u001b[0m\u001b[0;34m(\u001b[0m\u001b[0;34m[\u001b[0m\u001b[0mopt\u001b[0m\u001b[0;34m.\u001b[0m\u001b[0mx\u001b[0m\u001b[0;34m[\u001b[0m\u001b[0;36m2\u001b[0m\u001b[0;34m*\u001b[0m\u001b[0mi\u001b[0m\u001b[0;34m+\u001b[0m\u001b[0;36m1\u001b[0m\u001b[0;34m]\u001b[0m\u001b[0;34m,\u001b[0m \u001b[0mopt\u001b[0m\u001b[0;34m.\u001b[0m\u001b[0mx\u001b[0m\u001b[0;34m[\u001b[0m\u001b[0;36m2\u001b[0m\u001b[0;34m*\u001b[0m\u001b[0mi\u001b[0m\u001b[0;34m]\u001b[0m\u001b[0;34m]\u001b[0m\u001b[0;34m)\u001b[0m\u001b[0;34m\u001b[0m\u001b[0;34m\u001b[0m\u001b[0m\n\u001b[0m\u001b[1;32m    122\u001b[0m     \u001b[0;32mfor\u001b[0m \u001b[0mce\u001b[0m \u001b[0;32min\u001b[0m \u001b[0mcontingent_edge_map\u001b[0m\u001b[0;34m:\u001b[0m\u001b[0;34m\u001b[0m\u001b[0;34m\u001b[0m\u001b[0m\n\u001b[1;32m    123\u001b[0m         \u001b[0mstn\u001b[0m\u001b[0;34m.\u001b[0m\u001b[0mstn\u001b[0m\u001b[0;34m[\u001b[0m\u001b[0mce\u001b[0m\u001b[0;34m[\u001b[0m\u001b[0;36m0\u001b[0m\u001b[0;34m]\u001b[0m\u001b[0;34m]\u001b[0m\u001b[0;34m[\u001b[0m\u001b[0mce\u001b[0m\u001b[0;34m[\u001b[0m\u001b[0;36m1\u001b[0m\u001b[0;34m]\u001b[0m\u001b[0;34m]\u001b[0m\u001b[0;34m[\u001b[0m\u001b[0;34m'tc'\u001b[0m\u001b[0;34m]\u001b[0m\u001b[0;34m.\u001b[0m\u001b[0mconstraint\u001b[0m\u001b[0;34m[\u001b[0m\u001b[0;36m0\u001b[0m\u001b[0;34m]\u001b[0m \u001b[0;34m=\u001b[0m \u001b[0;34m-\u001b[0m\u001b[0mstn\u001b[0m\u001b[0;34m.\u001b[0m\u001b[0mstn\u001b[0m\u001b[0;34m[\u001b[0m\u001b[0mce\u001b[0m\u001b[0;34m[\u001b[0m\u001b[0;36m0\u001b[0m\u001b[0;34m]\u001b[0m\u001b[0;34m]\u001b[0m\u001b[0;34m[\u001b[0m\u001b[0mce\u001b[0m\u001b[0;34m[\u001b[0m\u001b[0;36m1\u001b[0m\u001b[0;34m]\u001b[0m\u001b[0;34m]\u001b[0m\u001b[0;34m[\u001b[0m\u001b[0;34m'tc'\u001b[0m\u001b[0;34m]\u001b[0m\u001b[0;34m.\u001b[0m\u001b[0mconstraint\u001b[0m\u001b[0;34m[\u001b[0m\u001b[0;36m0\u001b[0m\u001b[0;34m]\u001b[0m \u001b[0;34m-\u001b[0m \u001b[0mopt\u001b[0m\u001b[0;34m.\u001b[0m\u001b[0mx\u001b[0m\u001b[0;34m[\u001b[0m\u001b[0;36m2\u001b[0m\u001b[0;34m*\u001b[0m\u001b[0mlen\u001b[0m\u001b[0;34m(\u001b[0m\u001b[0mnodes\u001b[0m\u001b[0;34m)\u001b[0m \u001b[0;34m+\u001b[0m \u001b[0;36m2\u001b[0m\u001b[0;34m*\u001b[0m\u001b[0mcontingent_edge_map\u001b[0m\u001b[0;34m[\u001b[0m\u001b[0mce\u001b[0m\u001b[0;34m]\u001b[0m\u001b[0;34m+\u001b[0m\u001b[0;36m1\u001b[0m\u001b[0;34m]\u001b[0m\u001b[0;34m\u001b[0m\u001b[0;34m\u001b[0m\u001b[0m\n",
      "\u001b[0;32m~/opt/anaconda3/lib/python3.8/site-packages/networkx/classes/coreviews.py\u001b[0m in \u001b[0;36m__getitem__\u001b[0;34m(self, key)\u001b[0m\n\u001b[1;32m     52\u001b[0m \u001b[0;34m\u001b[0m\u001b[0m\n\u001b[1;32m     53\u001b[0m     \u001b[0;32mdef\u001b[0m \u001b[0m__getitem__\u001b[0m\u001b[0;34m(\u001b[0m\u001b[0mself\u001b[0m\u001b[0;34m,\u001b[0m \u001b[0mkey\u001b[0m\u001b[0;34m)\u001b[0m\u001b[0;34m:\u001b[0m\u001b[0;34m\u001b[0m\u001b[0;34m\u001b[0m\u001b[0m\n\u001b[0;32m---> 54\u001b[0;31m         \u001b[0;32mreturn\u001b[0m \u001b[0mself\u001b[0m\u001b[0;34m.\u001b[0m\u001b[0m_atlas\u001b[0m\u001b[0;34m[\u001b[0m\u001b[0mkey\u001b[0m\u001b[0;34m]\u001b[0m\u001b[0;34m\u001b[0m\u001b[0;34m\u001b[0m\u001b[0m\n\u001b[0m\u001b[1;32m     55\u001b[0m \u001b[0;34m\u001b[0m\u001b[0m\n\u001b[1;32m     56\u001b[0m     \u001b[0;32mdef\u001b[0m \u001b[0mcopy\u001b[0m\u001b[0;34m(\u001b[0m\u001b[0mself\u001b[0m\u001b[0;34m)\u001b[0m\u001b[0;34m:\u001b[0m\u001b[0;34m\u001b[0m\u001b[0;34m\u001b[0m\u001b[0m\n",
      "\u001b[0;31mKeyError\u001b[0m: 'Patient_1_transported_to_bed'"
     ]
    }
   ],
   "source": [
    "drea(complete_healthcare_stn, dispatcher)"
   ]
  },
  {
   "cell_type": "code",
   "execution_count": 26,
   "id": "1a490bb4",
   "metadata": {},
   "outputs": [
    {
     "name": "stdout",
     "output_type": "stream",
     "text": [
      "Workflow for Patient 1 is set up with nurse and doctor moving to next patient.\n",
      "Workflow for Patient 2 is set up with nurse and doctor moving to next patient.\n",
      "Workflow for Patient 3 is set up with nurse and doctor moving to next patient.\n",
      "Workflow for Patient 4 is set up with nurse and doctor moving to next patient.\n",
      "Workflow for Patient 5 is set up with nurse and doctor moving to next patient.\n",
      "Workflow for Patient 6 is set up with nurse and doctor moving to next patient.\n",
      "Workflow for Patient 7 is set up with nurse and doctor moving to next patient.\n",
      "Workflow for Patient 8 is set up with nurse and doctor moving to next patient.\n",
      "Workflow for Patient 9 is set up with nurse and doctor moving to next patient.\n",
      "Workflow for Patient 10 is set up with nurse and doctor moving to next patient.\n",
      "Workflow for Patient 11 is set up with nurse and doctor moving to next patient.\n",
      "Workflow for Patient 12 is set up with nurse and doctor moving to next patient.\n",
      "Workflow for Patient 13 is set up with nurse and doctor moving to next patient.\n",
      "Workflow for Patient 14 is set up with nurse and doctor moving to next patient.\n",
      "Workflow for Patient 15 is set up with nurse and doctor moving to next patient.\n",
      "Workflow for Patient 16 is set up with nurse and doctor moving to next patient.\n",
      "Workflow for Patient 17 is set up with nurse and doctor moving to next patient.\n",
      "Workflow for Patient 18 is set up with nurse and doctor moving to next patient.\n",
      "Workflow for Patient 19 is set up with nurse and doctor moving to next patient.\n",
      "Workflow for Patient 20 is set up with nurse and doctor moving to next patient.\n",
      "Workflow for Patient 21 is set up with nurse and doctor moving to next patient.\n",
      "Workflow for Patient 22 is set up with nurse and doctor moving to next patient.\n",
      "Workflow for Patient 23 is set up with nurse and doctor moving to next patient.\n",
      "Workflow for Patient 24 is set up with nurse and doctor moving to next patient.\n",
      "Workflow for Patient 25 is set up with nurse and doctor moving to next patient.\n"
     ]
    }
   ],
   "source": [
    "from scipy.stats import norm\n",
    "from temporal_constraint import TemporalConstraint\n",
    "from stn import STN\n",
    "\n",
    "def setup_healthcare_process():\n",
    "    stn = STN()\n",
    "    stn.add_edge('START', 'START', TemporalConstraint([0.0, 0.0]))\n",
    "    num_patients = 25\n",
    "\n",
    "    # Setup patient arrivals with increasing time windows\n",
    "    for i in range(1, num_patients + 1):\n",
    "        patient_arrival_node = f'Patient_{i}_arrives'\n",
    "        stn.add_edge('START', patient_arrival_node, TemporalConstraint(norm(loc=10 + i*2, scale=2), contingent=True))\n",
    "\n",
    "        # Define the subsequent nodes and dependencies for each patient\n",
    "        transport_to_bed_node = f'Patient_{i}_transported_to_bed'\n",
    "        nurse_arrival_node = f'Nurse_arrives_for_Patient_{i}'\n",
    "        doctor_arrival_node = f'Doctor_arrives_for_Patient_{i}'\n",
    "        screening_end_node = f'Patient_{i}_screening_ends'\n",
    "\n",
    "        # Nurse and doctor movement\n",
    "        nurse_next_patient_node = f'Nurse_leaves_for_Patient_{i+1}' if i < num_patients else 'Nurse_finishes_last_patient'\n",
    "        doctor_next_patient_node = f'Doctor_leaves_for_Patient_{i+1}' if i < num_patients else 'Doctor_finishes_last_patient'\n",
    "\n",
    "        # Add edges for the patient care sequence\n",
    "        stn.add_edge(patient_arrival_node, transport_to_bed_node, TemporalConstraint([5, 15]))\n",
    "        stn.add_edge(transport_to_bed_node, nurse_arrival_node, TemporalConstraint([0, 15]))\n",
    "        stn.add_edge(transport_to_bed_node, doctor_arrival_node, TemporalConstraint([0, 10]))\n",
    "\n",
    "        # Synchronization for nurse and doctor departure to next patient\n",
    "        if i < num_patients:\n",
    "            stn.add_edge(nurse_arrival_node, nurse_next_patient_node, TemporalConstraint([0, 10000]))\n",
    "            stn.add_edge(doctor_arrival_node, doctor_next_patient_node, TemporalConstraint([0, 10000]))\n",
    "\n",
    "            # Connect nurse and doctor from one patient to the next\n",
    "            next_nurse_arrival_node = f'Nurse_arrives_for_Patient_{i+1}'\n",
    "            next_doctor_arrival_node = f'Doctor_arrives_for_Patient_{i+1}'\n",
    "            stn.add_edge(nurse_next_patient_node, next_nurse_arrival_node, TemporalConstraint([0, 10]))\n",
    "            stn.add_edge(doctor_next_patient_node, next_doctor_arrival_node, TemporalConstraint([0, 10]))\n",
    "\n",
    "        print(f\"Workflow for Patient {i} is set up with nurse and doctor moving to next patient.\")\n",
    "\n",
    "    return stn\n",
    "\n",
    "# Create and setup the healthcare STN\n",
    "complete_healthcare_stn = setup_healthcare_process()\n"
   ]
  },
  {
   "cell_type": "code",
   "execution_count": 27,
   "id": "50a9946d",
   "metadata": {},
   "outputs": [
    {
     "ename": "KeyError",
     "evalue": "'Patient_1_transported_to_bed'",
     "output_type": "error",
     "traceback": [
      "\u001b[0;31m---------------------------------------------------------------------------\u001b[0m",
      "\u001b[0;31mKeyError\u001b[0m                                  Traceback (most recent call last)",
      "\u001b[0;32m/var/folders/7y/3tf3c7ws7mq6qq19_sk___m00000gn/T/ipykernel_55046/2734942941.py\u001b[0m in \u001b[0;36m<module>\u001b[0;34m\u001b[0m\n\u001b[0;32m----> 1\u001b[0;31m \u001b[0mdrea\u001b[0m\u001b[0;34m(\u001b[0m\u001b[0mcomplete_healthcare_stn\u001b[0m\u001b[0;34m,\u001b[0m \u001b[0mdispatcher\u001b[0m\u001b[0;34m)\u001b[0m\u001b[0;34m\u001b[0m\u001b[0;34m\u001b[0m\u001b[0m\n\u001b[0m",
      "\u001b[0;32m/var/folders/7y/3tf3c7ws7mq6qq19_sk___m00000gn/T/ipykernel_55046/2465490706.py\u001b[0m in \u001b[0;36mdrea\u001b[0;34m(pstn, dispatcher)\u001b[0m\n\u001b[1;32m     18\u001b[0m \u001b[0;34m\u001b[0m\u001b[0m\n\u001b[1;32m     19\u001b[0m \u001b[0;32mdef\u001b[0m \u001b[0mdrea\u001b[0m\u001b[0;34m(\u001b[0m\u001b[0mpstn\u001b[0m \u001b[0;34m:\u001b[0m \u001b[0mSTN\u001b[0m\u001b[0;34m,\u001b[0m \u001b[0mdispatcher\u001b[0m \u001b[0;34m:\u001b[0m \u001b[0mDispatcher\u001b[0m\u001b[0;34m)\u001b[0m\u001b[0;34m:\u001b[0m\u001b[0;34m\u001b[0m\u001b[0;34m\u001b[0m\u001b[0m\n\u001b[0;32m---> 20\u001b[0;31m     \u001b[0msrea_out\u001b[0m \u001b[0;34m=\u001b[0m \u001b[0msrea\u001b[0m\u001b[0;34m(\u001b[0m\u001b[0mpstn\u001b[0m\u001b[0;34m)\u001b[0m\u001b[0;34m\u001b[0m\u001b[0;34m\u001b[0m\u001b[0m\n\u001b[0m\u001b[1;32m     21\u001b[0m     \u001b[0mguide_stn\u001b[0m \u001b[0;34m:\u001b[0m \u001b[0mSTN\u001b[0m \u001b[0;34m=\u001b[0m \u001b[0msrea_out\u001b[0m\u001b[0;34m[\u001b[0m\u001b[0;34m'stnu'\u001b[0m\u001b[0;34m]\u001b[0m\u001b[0;34m\u001b[0m\u001b[0;34m\u001b[0m\u001b[0m\n\u001b[1;32m     22\u001b[0m     \u001b[0mexecution_windows\u001b[0m \u001b[0;34m=\u001b[0m \u001b[0msrea_out\u001b[0m\u001b[0;34m[\u001b[0m\u001b[0;34m'execution_windows'\u001b[0m\u001b[0;34m]\u001b[0m\u001b[0;34m\u001b[0m\u001b[0;34m\u001b[0m\u001b[0m\n",
      "\u001b[0;32m~/Library/CloudStorage/GoogleDrive-pyin@college.harvard.edu/My Drive/Harvard/Classes/Junior/Cognitive Robotics/Final/grand_challenge/src/srea.py\u001b[0m in \u001b[0;36msrea\u001b[0;34m(stn, am, ap, r)\u001b[0m\n\u001b[1;32m    141\u001b[0m     \u001b[0man\u001b[0m \u001b[0;34m=\u001b[0m \u001b[0;34m(\u001b[0m\u001b[0mam\u001b[0m \u001b[0;34m+\u001b[0m \u001b[0map\u001b[0m\u001b[0;34m)\u001b[0m \u001b[0;34m/\u001b[0m \u001b[0;36m2\u001b[0m\u001b[0;34m\u001b[0m\u001b[0;34m\u001b[0m\u001b[0m\n\u001b[1;32m    142\u001b[0m \u001b[0;34m\u001b[0m\u001b[0m\n\u001b[0;32m--> 143\u001b[0;31m     \u001b[0;32mif\u001b[0m \u001b[0moptimize_timepoints\u001b[0m\u001b[0;34m(\u001b[0m\u001b[0mstn\u001b[0m\u001b[0;34m,\u001b[0m \u001b[0man\u001b[0m\u001b[0;34m)\u001b[0m\u001b[0;34m[\u001b[0m\u001b[0;34m'status'\u001b[0m\u001b[0;34m]\u001b[0m \u001b[0;34m==\u001b[0m \u001b[0;36m2\u001b[0m\u001b[0;34m:\u001b[0m \u001b[0;31m# infeasible\u001b[0m\u001b[0;34m\u001b[0m\u001b[0;34m\u001b[0m\u001b[0m\n\u001b[0m\u001b[1;32m    144\u001b[0m         \u001b[0;32mreturn\u001b[0m \u001b[0msrea\u001b[0m\u001b[0;34m(\u001b[0m\u001b[0mstn\u001b[0m\u001b[0;34m,\u001b[0m \u001b[0man\u001b[0m\u001b[0;34m,\u001b[0m \u001b[0map\u001b[0m\u001b[0;34m,\u001b[0m \u001b[0mr\u001b[0m\u001b[0;34m)\u001b[0m\u001b[0;34m\u001b[0m\u001b[0;34m\u001b[0m\u001b[0m\n\u001b[1;32m    145\u001b[0m \u001b[0;34m\u001b[0m\u001b[0m\n",
      "\u001b[0;32m~/Library/CloudStorage/GoogleDrive-pyin@college.harvard.edu/My Drive/Harvard/Classes/Junior/Cognitive Robotics/Final/grand_challenge/src/srea.py\u001b[0m in \u001b[0;36moptimize_timepoints\u001b[0;34m(template_stn, a)\u001b[0m\n\u001b[1;32m    107\u001b[0m \u001b[0;34m\u001b[0m\u001b[0m\n\u001b[1;32m    108\u001b[0m     \u001b[0;32mif\u001b[0m \u001b[0mopt\u001b[0m\u001b[0;34m.\u001b[0m\u001b[0mstatus\u001b[0m \u001b[0;34m==\u001b[0m \u001b[0;36m0\u001b[0m\u001b[0;34m:\u001b[0m\u001b[0;34m\u001b[0m\u001b[0;34m\u001b[0m\u001b[0m\n\u001b[0;32m--> 109\u001b[0;31m         \u001b[0mconvert_to_stnu\u001b[0m\u001b[0;34m(\u001b[0m\u001b[0mstn\u001b[0m\u001b[0;34m,\u001b[0m \u001b[0mopt\u001b[0m\u001b[0;34m,\u001b[0m \u001b[0mcontingent_edge_map\u001b[0m\u001b[0;34m)\u001b[0m\u001b[0;34m\u001b[0m\u001b[0;34m\u001b[0m\u001b[0m\n\u001b[0m\u001b[1;32m    110\u001b[0m \u001b[0;34m\u001b[0m\u001b[0m\n\u001b[1;32m    111\u001b[0m     return {\n",
      "\u001b[0;32m~/Library/CloudStorage/GoogleDrive-pyin@college.harvard.edu/My Drive/Harvard/Classes/Junior/Cognitive Robotics/Final/grand_challenge/src/srea.py\u001b[0m in \u001b[0;36mconvert_to_stnu\u001b[0;34m(stn, opt, contingent_edge_map)\u001b[0m\n\u001b[1;32m    119\u001b[0m     \u001b[0mnodes\u001b[0m \u001b[0;34m=\u001b[0m \u001b[0mstn\u001b[0m\u001b[0;34m.\u001b[0m\u001b[0mstn\u001b[0m\u001b[0;34m.\u001b[0m\u001b[0mnodes\u001b[0m\u001b[0;34m\u001b[0m\u001b[0;34m\u001b[0m\u001b[0m\n\u001b[1;32m    120\u001b[0m     \u001b[0;32mfor\u001b[0m \u001b[0mi\u001b[0m\u001b[0;34m,\u001b[0m \u001b[0mnode\u001b[0m \u001b[0;32min\u001b[0m \u001b[0menumerate\u001b[0m\u001b[0;34m(\u001b[0m\u001b[0mnodes\u001b[0m\u001b[0;34m)\u001b[0m\u001b[0;34m:\u001b[0m\u001b[0;34m\u001b[0m\u001b[0;34m\u001b[0m\u001b[0m\n\u001b[0;32m--> 121\u001b[0;31m         \u001b[0mstn\u001b[0m\u001b[0;34m.\u001b[0m\u001b[0mstn\u001b[0m\u001b[0;34m[\u001b[0m\u001b[0;34m'START'\u001b[0m\u001b[0;34m]\u001b[0m\u001b[0;34m[\u001b[0m\u001b[0mnode\u001b[0m\u001b[0;34m]\u001b[0m\u001b[0;34m[\u001b[0m\u001b[0;34m'tc'\u001b[0m\u001b[0;34m]\u001b[0m \u001b[0;34m=\u001b[0m \u001b[0mTemporalConstraint\u001b[0m\u001b[0;34m(\u001b[0m\u001b[0;34m[\u001b[0m\u001b[0mopt\u001b[0m\u001b[0;34m.\u001b[0m\u001b[0mx\u001b[0m\u001b[0;34m[\u001b[0m\u001b[0;36m2\u001b[0m\u001b[0;34m*\u001b[0m\u001b[0mi\u001b[0m\u001b[0;34m+\u001b[0m\u001b[0;36m1\u001b[0m\u001b[0;34m]\u001b[0m\u001b[0;34m,\u001b[0m \u001b[0mopt\u001b[0m\u001b[0;34m.\u001b[0m\u001b[0mx\u001b[0m\u001b[0;34m[\u001b[0m\u001b[0;36m2\u001b[0m\u001b[0;34m*\u001b[0m\u001b[0mi\u001b[0m\u001b[0;34m]\u001b[0m\u001b[0;34m]\u001b[0m\u001b[0;34m)\u001b[0m\u001b[0;34m\u001b[0m\u001b[0;34m\u001b[0m\u001b[0m\n\u001b[0m\u001b[1;32m    122\u001b[0m     \u001b[0;32mfor\u001b[0m \u001b[0mce\u001b[0m \u001b[0;32min\u001b[0m \u001b[0mcontingent_edge_map\u001b[0m\u001b[0;34m:\u001b[0m\u001b[0;34m\u001b[0m\u001b[0;34m\u001b[0m\u001b[0m\n\u001b[1;32m    123\u001b[0m         \u001b[0mstn\u001b[0m\u001b[0;34m.\u001b[0m\u001b[0mstn\u001b[0m\u001b[0;34m[\u001b[0m\u001b[0mce\u001b[0m\u001b[0;34m[\u001b[0m\u001b[0;36m0\u001b[0m\u001b[0;34m]\u001b[0m\u001b[0;34m]\u001b[0m\u001b[0;34m[\u001b[0m\u001b[0mce\u001b[0m\u001b[0;34m[\u001b[0m\u001b[0;36m1\u001b[0m\u001b[0;34m]\u001b[0m\u001b[0;34m]\u001b[0m\u001b[0;34m[\u001b[0m\u001b[0;34m'tc'\u001b[0m\u001b[0;34m]\u001b[0m\u001b[0;34m.\u001b[0m\u001b[0mconstraint\u001b[0m\u001b[0;34m[\u001b[0m\u001b[0;36m0\u001b[0m\u001b[0;34m]\u001b[0m \u001b[0;34m=\u001b[0m \u001b[0;34m-\u001b[0m\u001b[0mstn\u001b[0m\u001b[0;34m.\u001b[0m\u001b[0mstn\u001b[0m\u001b[0;34m[\u001b[0m\u001b[0mce\u001b[0m\u001b[0;34m[\u001b[0m\u001b[0;36m0\u001b[0m\u001b[0;34m]\u001b[0m\u001b[0;34m]\u001b[0m\u001b[0;34m[\u001b[0m\u001b[0mce\u001b[0m\u001b[0;34m[\u001b[0m\u001b[0;36m1\u001b[0m\u001b[0;34m]\u001b[0m\u001b[0;34m]\u001b[0m\u001b[0;34m[\u001b[0m\u001b[0;34m'tc'\u001b[0m\u001b[0;34m]\u001b[0m\u001b[0;34m.\u001b[0m\u001b[0mconstraint\u001b[0m\u001b[0;34m[\u001b[0m\u001b[0;36m0\u001b[0m\u001b[0;34m]\u001b[0m \u001b[0;34m-\u001b[0m \u001b[0mopt\u001b[0m\u001b[0;34m.\u001b[0m\u001b[0mx\u001b[0m\u001b[0;34m[\u001b[0m\u001b[0;36m2\u001b[0m\u001b[0;34m*\u001b[0m\u001b[0mlen\u001b[0m\u001b[0;34m(\u001b[0m\u001b[0mnodes\u001b[0m\u001b[0;34m)\u001b[0m \u001b[0;34m+\u001b[0m \u001b[0;36m2\u001b[0m\u001b[0;34m*\u001b[0m\u001b[0mcontingent_edge_map\u001b[0m\u001b[0;34m[\u001b[0m\u001b[0mce\u001b[0m\u001b[0;34m]\u001b[0m\u001b[0;34m+\u001b[0m\u001b[0;36m1\u001b[0m\u001b[0;34m]\u001b[0m\u001b[0;34m\u001b[0m\u001b[0;34m\u001b[0m\u001b[0m\n",
      "\u001b[0;32m~/opt/anaconda3/lib/python3.8/site-packages/networkx/classes/coreviews.py\u001b[0m in \u001b[0;36m__getitem__\u001b[0;34m(self, key)\u001b[0m\n\u001b[1;32m     52\u001b[0m \u001b[0;34m\u001b[0m\u001b[0m\n\u001b[1;32m     53\u001b[0m     \u001b[0;32mdef\u001b[0m \u001b[0m__getitem__\u001b[0m\u001b[0;34m(\u001b[0m\u001b[0mself\u001b[0m\u001b[0;34m,\u001b[0m \u001b[0mkey\u001b[0m\u001b[0;34m)\u001b[0m\u001b[0;34m:\u001b[0m\u001b[0;34m\u001b[0m\u001b[0;34m\u001b[0m\u001b[0m\n\u001b[0;32m---> 54\u001b[0;31m         \u001b[0;32mreturn\u001b[0m \u001b[0mself\u001b[0m\u001b[0;34m.\u001b[0m\u001b[0m_atlas\u001b[0m\u001b[0;34m[\u001b[0m\u001b[0mkey\u001b[0m\u001b[0;34m]\u001b[0m\u001b[0;34m\u001b[0m\u001b[0;34m\u001b[0m\u001b[0m\n\u001b[0m\u001b[1;32m     55\u001b[0m \u001b[0;34m\u001b[0m\u001b[0m\n\u001b[1;32m     56\u001b[0m     \u001b[0;32mdef\u001b[0m \u001b[0mcopy\u001b[0m\u001b[0;34m(\u001b[0m\u001b[0mself\u001b[0m\u001b[0;34m)\u001b[0m\u001b[0;34m:\u001b[0m\u001b[0;34m\u001b[0m\u001b[0;34m\u001b[0m\u001b[0m\n",
      "\u001b[0;31mKeyError\u001b[0m: 'Patient_1_transported_to_bed'"
     ]
    }
   ],
   "source": [
    "drea(complete_healthcare_stn, dispatcher)"
   ]
  },
  {
   "cell_type": "code",
   "execution_count": null,
   "id": "390eb4e7",
   "metadata": {},
   "outputs": [],
   "source": []
  }
 ],
 "metadata": {
  "kernelspec": {
   "display_name": "Python 3 (ipykernel)",
   "language": "python",
   "name": "python3"
  },
  "language_info": {
   "codemirror_mode": {
    "name": "ipython",
    "version": 3
   },
   "file_extension": ".py",
   "mimetype": "text/x-python",
   "name": "python",
   "nbconvert_exporter": "python",
   "pygments_lexer": "ipython3",
   "version": "3.8.12"
  }
 },
 "nbformat": 4,
 "nbformat_minor": 5
}
